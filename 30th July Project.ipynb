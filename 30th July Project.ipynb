{
 "cells": [
  {
   "cell_type": "code",
   "execution_count": 25,
   "id": "df8079d5-164b-4e4b-91e4-b7f6908a6b4b",
   "metadata": {},
   "outputs": [],
   "source": [
    "import requests\n",
    "import logging\n",
    "import os\n",
    "from bs4 import BeautifulSoup\n",
    "from urllib.request import urlopen"
   ]
  },
  {
   "cell_type": "code",
   "execution_count": 26,
   "id": "89b1a77c-d5ba-4fb9-9c03-b7741b8b0394",
   "metadata": {},
   "outputs": [],
   "source": [
    "save_dir = \"images/\"\n",
    "if not os.path.exists(save_dir):\n",
    "    os.makedirs(save_dir)"
   ]
  },
  {
   "cell_type": "code",
   "execution_count": 40,
   "id": "fd65c91b-257b-4689-a9e1-ea71cb49f3d8",
   "metadata": {},
   "outputs": [],
   "source": [
    "query=\"cristiano ronaldo\"\n",
    "#url=https://www.google.com/search?q=virat+kohli&tbm=isch&ved=2ahUKEwij2u7PyeGEAxWQmWMGHZkSAhQQ2-cCegQIABAA&oq=virat+kohli&gs_lp=EgNpbWciC3ZpcmF0IGtvaGxpMgQQIxgnMhAQABiABBiKBRhDGLEDGIMBMggQABiABBixAzINEAAYgAQYigUYQxixAzIFEAAYgAQyBRAAGIAEMggQABiABBixAzIFEAAYgAQyBRAAGIAEMhAQABiABBiKBRhDGLEDGIMBSPQ2UJsLWOA0cAJ4AJABAJgBsASgAdYTqgEJMC45LjIuNS0xuAEDyAEA-AEBigILZ3dzLXdpei1pbWeoAgrCAgcQIxjqAhgnwgIKEAAYgAQYigUYQ4gGAQ&sclient=img&ei=kGXpZaPSDJCzjuMPmaWIoAE&bih=694&biw=767&rlz=1C1UEAD_enIN1077IN1077"
   ]
  },
  {
   "cell_type": "code",
   "execution_count": 41,
   "id": "e9bdb310-1a38-4050-ad29-b480e0ac11b4",
   "metadata": {},
   "outputs": [],
   "source": [
    "responce= requests.get(f\"https://www.google.com/search?q={query}&tbm=isch&ved=2ahUKEwij2u7PyeGEAxWQmWMGHZkSAhQQ2-cCegQIABAA&oq=virat+kohli&gs_lp=EgNpbWciC3ZpcmF0IGtvaGxpMgQQIxgnMhAQABiABBiKBRhDGLEDGIMBMggQABiABBixAzINEAAYgAQYigUYQxixAzIFEAAYgAQyBRAAGIAEMggQABiABBixAzIFEAAYgAQyBRAAGIAEMhAQABiABBiKBRhDGLEDGIMBSPQ2UJsLWOA0cAJ4AJABAJgBsASgAdYTqgEJMC45LjIuNS0xuAEDyAEA-AEBigILZ3dzLXdpei1pbWeoAgrCAgcQIxjqAhgnwgIKEAAYgAQYigUYQ4gGAQ&sclient=img&ei=kGXpZaPSDJCzjuMPmaWIoAE&bih=694&biw=767&rlz=1C1UEAD_enIN1077IN1077\")"
   ]
  },
  {
   "cell_type": "code",
   "execution_count": 42,
   "id": "75aa21d9-fcc5-4424-b686-cdf0698aba6b",
   "metadata": {},
   "outputs": [
    {
     "data": {
      "text/plain": [
       "<Response [200]>"
      ]
     },
     "execution_count": 42,
     "metadata": {},
     "output_type": "execute_result"
    }
   ],
   "source": [
    "responce"
   ]
  },
  {
   "cell_type": "code",
   "execution_count": 43,
   "id": "81fe2688-86d8-4ca1-b156-3e99de18d220",
   "metadata": {},
   "outputs": [],
   "source": [
    "soup=BeautifulSoup(responce.content, \"html.parser\")"
   ]
  },
  {
   "cell_type": "code",
   "execution_count": 44,
   "id": "5eb57148-0474-4c4a-8ec8-69d958e47d3b",
   "metadata": {},
   "outputs": [
    {
     "data": {
      "text/plain": [
       "<!DOCTYPE html PUBLIC \"-//WAPFORUM//DTD XHTML Mobile 1.0//EN\" \"http://www.wapforum.org/DTD/xhtml-mobile10.dtd\">\n",
       "<html lang=\"en-IN\" xmlns=\"http://www.w3.org/1999/xhtml\"><head><meta content=\"application/xhtml+xml; charset=utf-8\" http-equiv=\"Content-Type\"/><meta content=\"no-cache\" name=\"Cache-Control\"/><title>cristiano ronaldo - Google Search</title><style>a{text-decoration:none;color:inherit}a:hover{text-decoration:underline}a img{border:0}body{font-family:arial,sans-serif;padding:8px;margin:0 auto;max-width:700px;min-width:240px;}.FbhRzb{border-left:thin solid #dadce0;border-right:thin solid #dadce0;border-top:thin solid #dadce0;height:40px;overflow:hidden}.n692Zd{margin-bottom:10px}.cvifge{height:40px;border-spacing:0}.QvGUP{height:40px;padding:0 8px 0 8px;vertical-align:top}.O4cRJf{height:40px;width:100%;padding:0;padding-right:16px}.O1ePr{height:40px;padding:0;vertical-align:top}.kgJEQe{height:36px;width:98px;vertical-align:top;margin-top:4px}.lXLRf{vertical-align:top}.MhzMZd{border:0;vertical-align:middle;font-size:14px;height:40px;padding:0;width:100%;padding-left:16px}.xB0fq{height:40px;border:none;font-size:14px;background-color:#1a73e8;color:#fff;padding:0 16px;margin:0;vertical-align:top;cursor:pointer}.xB0fq:focus{border:1px solid #1a73e8}.M7pB2{border:thin solid #dadce0;margin:0 0 3px 0;font-size:13px;font-weight:500;height:40px}.euZec{width:100%;height:40px;text-align:center;border-spacing:0}table.euZec td{padding:0;width:25%}.QIqI7{display:inline-block;padding-top:4px;font-weight:bold;color:#4285f4}.EY24We{border-bottom:2px solid #4285f4}.CsQyDc{display:inline-block;color:#70757a}.TuS8Ad{font-size:14px}.HddGcc{padding:8px;color:#70757a}.dzp8ae{font-weight:bold;color:#3c4043}.rEM8G{color:#70757a}.bookcf{table-layout:fixed;width:100%;border-spacing:0}.InWNIe{text-align:center}.uZgmoc{border:thin solid #dadce0;color:#70757a;font-size:14px;text-align:center;table-layout:fixed;width:100%}.frGj1b{display:block;padding:12px 0 12px 0;width:100%}.BnJWBc{text-align:center;padding:6px 0 13px 0;height:35px}.e3goi{vertical-align:top;padding:0;height:180px}.GpQGbf{margin:auto;border-collapse:collapse;border-spacing:0;width:100%}</style></head><body><style>.X6ZCif{color:#202124;font-size:11px;line-height:16px;display:inline-block;padding-top:2px;overflow:hidden;padding-bottom:4px;width:100%}.TwVfHd{border-radius:16px;border:thin solid #dadce0;display:inline-block;padding:8px 8px;margin-right:8px;margin-bottom:4px}.yekiAe{background-color:#dadce0}.jjVJ4e{width:100%}.ezO2md{border:thin solid #dadce0;padding:12px 16px 12px 16px;margin-bottom:10px;font-family:arial,sans-serif}.lIMUZd{font-family:arial,sans-serif}.RntSmf{border-spacing:0}.lgD2Tc{width:100%}.SpelHe{text-align:center}.SpelHe{position:relative}.kCmkOe{position:relative}.kCmkOe{width:162px;height:140px;line-height:140px;overflow:'hidden';text-align:center}.DS1iW{text-align:center;margin:auto;vertical-align:middle;max-width:162px;max-height:140px}.AlD19d{padding-top:2px;padding-bottom:8px;}.fYyStc{word-break:break-word}.ynsChf{display:block;white-space:nowrap;overflow:hidden;text-overflow:ellipsis}.Fj3V3b{color:#1967d2;font-size:14px;line-height:20px}.FrIlee{color:#202124;font-size:11px;line-height:16px}.F9iS2e{color:#70757a;font-size:11px;line-height:16px}.WMQ2Le{color:#70757a;font-size:12px;line-height:16px}.x3G5ab{color:#202124;font-size:12px;line-height:16px}.fuLhoc{color:#1967d2;font-size:16px;line-height:20px}.epoveb{font-size:24px;line-height:28px;font-weight:400;color:#202124}.dXDvrc{color:#0d652d;font-size:14px;line-height:20px;word-wrap:break-word}.dloBPe{font-weight:bold}.YVIcad{color:#70757a}.JkVVdd{color:#ea4335}.oXZRFd{color:#ea4335}.MQHtg{color:#fbbc04}.pyMRrb{color:#1e8e3e}.EtTZid{color:#1e8e3e}.M3vVJe{color:#1967d2}.qXLe6d{display:block}.NHQNef{font-style:italic}.Cb8Z7c{white-space:pre}a.ZWRArf{text-decoration:none}a .CVA68e:hover{text-decoration:underline}</style><div class=\"n692Zd\"><div class=\"BnJWBc\"><a class=\"lXLRf\" href=\"/?sca_esv=8cd23cecb428a702&amp;bih=694&amp;biw=767&amp;rlz=1C1UEAD_enIN1077IN1077&amp;output=images&amp;ie=UTF-8&amp;tbm=isch&amp;sa=X&amp;ved=0ahUKEwjQyvTj3OGEAxWC1zgGHawOCl0QPAgC\"><img alt=\"Google\" class=\"kgJEQe\" src=\"/images/branding/searchlogo/1x/googlelogo_desk_heirloom_color_150x55dp.gif\"/></a></div><div class=\"FbhRzb\"><form action=\"/search\"><input name=\"sca_esv\" type=\"hidden\" value=\"8cd23cecb428a702\"/><input name=\"bih\" type=\"hidden\" value=\"694\"/><input name=\"biw\" type=\"hidden\" value=\"767\"/><input name=\"rlz\" type=\"hidden\" value=\"1C1UEAD_enIN1077IN1077\"/><input name=\"ie\" type=\"hidden\" value=\"ISO-8859-1\"/><input name=\"tbm\" type=\"hidden\" value=\"isch\"/><input name=\"oq\" type=\"hidden\"/><input name=\"aqs\" type=\"hidden\"/><table class=\"cvifge\"><tr><td class=\"O4cRJf\"><input class=\"MhzMZd\" name=\"q\" type=\"text\" value=\"cristiano ronaldo\"/></td><td class=\"O1ePr\"><input class=\"xB0fq\" type=\"submit\" value=\"Search\"/></td></tr></table></form></div><div class=\"M7pB2\"><table class=\"euZec\"><tbody><tr><td><a class=\"CsQyDc\" href=\"/search?q=cristiano+ronaldo&amp;sca_esv=8cd23cecb428a702&amp;bih=694&amp;biw=767&amp;rlz=1C1UEAD_enIN1077IN1077&amp;ie=UTF-8&amp;source=lnms&amp;sa=X&amp;ved=0ahUKEwjQyvTj3OGEAxWC1zgGHawOCl0Q_AUIBCgA\">ALL</a></td><td><a class=\"CsQyDc\" href=\"/search?q=cristiano+ronaldo&amp;sca_esv=8cd23cecb428a702&amp;bih=694&amp;biw=767&amp;rlz=1C1UEAD_enIN1077IN1077&amp;ie=UTF-8&amp;tbm=nws&amp;source=lnms&amp;sa=X&amp;ved=0ahUKEwjQyvTj3OGEAxWC1zgGHawOCl0Q_AUIBSgB\">NEWS</a></td><td class=\"EY24We\"><span class=\"QIqI7\">IMAGES</span></td><td><a class=\"CsQyDc\" href=\"/search?q=cristiano+ronaldo&amp;sca_esv=8cd23cecb428a702&amp;bih=694&amp;biw=767&amp;rlz=1C1UEAD_enIN1077IN1077&amp;ie=UTF-8&amp;tbm=vid&amp;source=lnms&amp;sa=X&amp;ved=0ahUKEwjQyvTj3OGEAxWC1zgGHawOCl0Q_AUIBygD\">VIDEOS</a></td></tr></tbody></table></div></div><div class=\"X6ZCif\"><a class=\"TwVfHd\" href=\"/search?sca_esv=8cd23cecb428a702&amp;bih=694&amp;biw=767&amp;rlz=1C1UEAD_enIN1077IN1077&amp;ie=UTF-8&amp;tbm=isch&amp;q=cristiano+ronaldo&amp;chips=q:cristiano+ronaldo,g_1:wallpaper&amp;sa=X&amp;ved=0ahUKEwjQyvTj3OGEAxWC1zgGHawOCl0Q4lYICygA\">wallpaper</a><a class=\"TwVfHd\" href=\"/search?sca_esv=8cd23cecb428a702&amp;bih=694&amp;biw=767&amp;rlz=1C1UEAD_enIN1077IN1077&amp;ie=UTF-8&amp;tbm=isch&amp;q=cristiano+ronaldo&amp;chips=q:cristiano+ronaldo,g_1:manchester+united&amp;sa=X&amp;ved=0ahUKEwjQyvTj3OGEAxWC1zgGHawOCl0Q4lYIDCgB\">manchester united</a><a class=\"TwVfHd\" href=\"/search?sca_esv=8cd23cecb428a702&amp;bih=694&amp;biw=767&amp;rlz=1C1UEAD_enIN1077IN1077&amp;ie=UTF-8&amp;tbm=isch&amp;q=cristiano+ronaldo&amp;chips=q:cristiano+ronaldo,g_1:hairstyle&amp;sa=X&amp;ved=0ahUKEwjQyvTj3OGEAxWC1zgGHawOCl0Q4lYIDSgC\">hairstyle</a><a class=\"TwVfHd\" href=\"/search?sca_esv=8cd23cecb428a702&amp;bih=694&amp;biw=767&amp;rlz=1C1UEAD_enIN1077IN1077&amp;ie=UTF-8&amp;tbm=isch&amp;q=cristiano+ronaldo&amp;chips=q:cristiano+ronaldo,g_1:style&amp;sa=X&amp;ved=0ahUKEwjQyvTj3OGEAxWC1zgGHawOCl0Q4lYIDigD\">style</a><a class=\"TwVfHd\" href=\"/search?sca_esv=8cd23cecb428a702&amp;bih=694&amp;biw=767&amp;rlz=1C1UEAD_enIN1077IN1077&amp;ie=UTF-8&amp;tbm=isch&amp;q=cristiano+ronaldo&amp;chips=q:cristiano+ronaldo,g_1:family&amp;sa=X&amp;ved=0ahUKEwjQyvTj3OGEAxWC1zgGHawOCl0Q4lYIDygE\">family</a><a class=\"TwVfHd\" href=\"/search?sca_esv=8cd23cecb428a702&amp;bih=694&amp;biw=767&amp;rlz=1C1UEAD_enIN1077IN1077&amp;ie=UTF-8&amp;tbm=isch&amp;q=cristiano+ronaldo&amp;chips=q:cristiano+ronaldo,g_1:drawing&amp;sa=X&amp;ved=0ahUKEwjQyvTj3OGEAxWC1zgGHawOCl0Q4lYIECgF\">drawing</a><a class=\"TwVfHd\" href=\"/search?sca_esv=8cd23cecb428a702&amp;bih=694&amp;biw=767&amp;rlz=1C1UEAD_enIN1077IN1077&amp;ie=UTF-8&amp;tbm=isch&amp;q=cristiano+ronaldo&amp;chips=q:cristiano+ronaldo,g_1:house&amp;sa=X&amp;ved=0ahUKEwjQyvTj3OGEAxWC1zgGHawOCl0Q4lYIESgG\">house</a><a class=\"TwVfHd\" href=\"/search?sca_esv=8cd23cecb428a702&amp;bih=694&amp;biw=767&amp;rlz=1C1UEAD_enIN1077IN1077&amp;ie=UTF-8&amp;tbm=isch&amp;q=cristiano+ronaldo&amp;chips=q:cristiano+ronaldo,g_1:new&amp;sa=X&amp;ved=0ahUKEwjQyvTj3OGEAxWC1zgGHawOCl0Q4lYIEigH\">new</a><a class=\"TwVfHd\" href=\"/search?sca_esv=8cd23cecb428a702&amp;bih=694&amp;biw=767&amp;rlz=1C1UEAD_enIN1077IN1077&amp;ie=UTF-8&amp;tbm=isch&amp;q=cristiano+ronaldo&amp;chips=q:cristiano+ronaldo,g_1:iphone&amp;sa=X&amp;ved=0ahUKEwjQyvTj3OGEAxWC1zgGHawOCl0Q4lYIEygI\">iphone</a><a class=\"TwVfHd\" href=\"/search?sca_esv=8cd23cecb428a702&amp;bih=694&amp;biw=767&amp;rlz=1C1UEAD_enIN1077IN1077&amp;ie=UTF-8&amp;tbm=isch&amp;q=cristiano+ronaldo&amp;chips=q:cristiano+ronaldo,g_1:bugatti&amp;sa=X&amp;ved=0ahUKEwjQyvTj3OGEAxWC1zgGHawOCl0Q4lYIFCgJ\">bugatti</a></div><div><table class=\"GpQGbf\"><tr><td align=\"center\" class=\"e3goi\"><div class=\"jjVJ4e\"> <div> <div class=\"lIMUZd\"><div><table class=\"RntSmf\"><tr><td><a href=\"/url?q=https://en.wikipedia.org/wiki/Cristiano_Ronaldo&amp;sa=U&amp;ved=2ahUKEwjQyvTj3OGEAxWC1zgGHawOCl0QqoUBegQIAxAB&amp;usg=AOvVaw1ms7DmOyvxBNiJKSuttgOG\"><div class=\"kCmkOe\"><img alt=\"\" class=\"DS1iW\" src=\"https://encrypted-tbn0.gstatic.com/images?q=tbn:ANd9GcS2-SbpoRNCqCsyIJzxcQRwpRaANXpJv9dMpIi8zHxJEm0HjdeUJM3BlAkbocc&amp;s\"/></div></a></td></tr><tr><td><a href=\"/url?q=https://en.wikipedia.org/wiki/Cristiano_Ronaldo&amp;sa=U&amp;ved=2ahUKEwjQyvTj3OGEAxWC1zgGHawOCl0Qr4kDegQIAxAC&amp;usg=AOvVaw3c98ckini2atlr_4W5BAfr\"><div class=\"AlD19d\"> <span class=\"qXLe6d x3G5ab\"> <span class=\"fYyStc\">Cristiano Ronaldo -...</span> </span> <span class=\"qXLe6d F9iS2e\"> <span class=\"fYyStc\">en.wikipedia.org</span> </span> </div></a></td></tr></table></div></div> </div> </div></td><td align=\"center\" class=\"e3goi\"><div class=\"jjVJ4e\"> <div> <div class=\"lIMUZd\"><div><table class=\"RntSmf\"><tr><td><a href=\"/url?q=https://www.transfermarkt.com/cristiano-ronaldo/profil/spieler/8198&amp;sa=U&amp;ved=2ahUKEwjQyvTj3OGEAxWC1zgGHawOCl0QqoUBegQIEhAB&amp;usg=AOvVaw3Axc9txRrrMJB-3BsDdFgW\"><div class=\"kCmkOe\"><img alt=\"\" class=\"DS1iW\" src=\"https://encrypted-tbn0.gstatic.com/images?q=tbn:ANd9GcSPGsqvgni8i8sgM6z70Yi1Q7HNDKvt404rUL0dVQKYOT2C6af1rUNWCRfEp3o&amp;s\"/></div></a></td></tr><tr><td><a href=\"/url?q=https://www.transfermarkt.com/cristiano-ronaldo/profil/spieler/8198&amp;sa=U&amp;ved=2ahUKEwjQyvTj3OGEAxWC1zgGHawOCl0Qr4kDegQIEhAC&amp;usg=AOvVaw1mjPPO95SH7PuWdfov3P5c\"><div class=\"AlD19d\"> <span class=\"qXLe6d x3G5ab\"> <span class=\"fYyStc\">Cristiano Ronaldo - Player...</span> </span> <span class=\"qXLe6d F9iS2e\"> <span class=\"fYyStc\">www.transfermarkt.com</span> </span> </div></a></td></tr></table></div></div> </div> </div></td><td align=\"center\" class=\"e3goi\"><div class=\"jjVJ4e\"> <div> <div class=\"lIMUZd\"><div><table class=\"RntSmf\"><tr><td><a href=\"/url?q=https://en.wikipedia.org/wiki/Cristiano_Ronaldo&amp;sa=U&amp;ved=2ahUKEwjQyvTj3OGEAxWC1zgGHawOCl0QqoUBegQIExAB&amp;usg=AOvVaw0ykKylrPs9tDVwW--zivbE\"><div class=\"kCmkOe\"><img alt=\"\" class=\"DS1iW\" src=\"https://encrypted-tbn0.gstatic.com/images?q=tbn:ANd9GcRyLHfNlKC5KMgyzGeUJNv9BAOdR-2jJEM_wCvHAaszzRU2ZlFySa47NDbPmt4&amp;s\"/></div></a></td></tr><tr><td><a href=\"/url?q=https://en.wikipedia.org/wiki/Cristiano_Ronaldo&amp;sa=U&amp;ved=2ahUKEwjQyvTj3OGEAxWC1zgGHawOCl0Qr4kDegQIExAC&amp;usg=AOvVaw3C5n4P2rFmkATVgjbBuaQS\"><div class=\"AlD19d\"> <span class=\"qXLe6d x3G5ab\"> <span class=\"fYyStc\">Cristiano Ronaldo -...</span> </span> <span class=\"qXLe6d F9iS2e\"> <span class=\"fYyStc\">en.wikipedia.org</span> </span> </div></a></td></tr></table></div></div> </div> </div></td><td align=\"center\" class=\"e3goi\"><div class=\"jjVJ4e\"> <div> <div class=\"lIMUZd\"><div><table class=\"RntSmf\"><tr><td><a href=\"/url?q=https://www.foxsports.com/soccer/cristiano-ronaldo-player&amp;sa=U&amp;ved=2ahUKEwjQyvTj3OGEAxWC1zgGHawOCl0QqoUBegQIERAB&amp;usg=AOvVaw0njcAisTb_zrPdg2zsj7bb\"><div class=\"kCmkOe\"><img alt=\"\" class=\"DS1iW\" src=\"https://encrypted-tbn0.gstatic.com/images?q=tbn:ANd9GcSkfYKVZcpwdbKANsKUWnr28O3EZgPNlKS6C1omLpHf4n7Dv-6deHBGTiqDQw&amp;s\"/></div></a></td></tr><tr><td><a href=\"/url?q=https://www.foxsports.com/soccer/cristiano-ronaldo-player&amp;sa=U&amp;ved=2ahUKEwjQyvTj3OGEAxWC1zgGHawOCl0Qr4kDegQIERAC&amp;usg=AOvVaw12wpQ3wE4B6nqKClDkCrLL\"><div class=\"AlD19d\"> <span class=\"qXLe6d x3G5ab\"> <span class=\"fYyStc\">Cristiano Ronaldo - Soccer...</span> </span> <span class=\"qXLe6d F9iS2e\"> <span class=\"fYyStc\">www.foxsports.com</span> </span> </div></a></td></tr></table></div></div> </div> </div></td></tr><tr><td align=\"center\" class=\"e3goi\"><div class=\"jjVJ4e\"> <div> <div class=\"lIMUZd\"><div><table class=\"RntSmf\"><tr><td><a href=\"/url?q=https://www.britannica.com/biography/Cristiano-Ronaldo&amp;sa=U&amp;ved=2ahUKEwjQyvTj3OGEAxWC1zgGHawOCl0QqoUBegQIEBAB&amp;usg=AOvVaw19NJUlD0l9J_whEdwMywv0\"><div class=\"kCmkOe\"><img alt=\"\" class=\"DS1iW\" src=\"https://encrypted-tbn0.gstatic.com/images?q=tbn:ANd9GcR8ojg_Z9wmXsdhthgyKqBuurgBf5bZ7FIbI3gBU-iNJz66KGegNkYSjY_Bug&amp;s\"/></div></a></td></tr><tr><td><a href=\"/url?q=https://www.britannica.com/biography/Cristiano-Ronaldo&amp;sa=U&amp;ved=2ahUKEwjQyvTj3OGEAxWC1zgGHawOCl0Qr4kDegQIEBAC&amp;usg=AOvVaw0d76Gg54QPBP96m0IvlItV\"><div class=\"AlD19d\"> <span class=\"qXLe6d x3G5ab\"> <span class=\"fYyStc\">Cristiano Ronaldo |...</span> </span> <span class=\"qXLe6d F9iS2e\"> <span class=\"fYyStc\">www.britannica.com</span> </span> </div></a></td></tr></table></div></div> </div> </div></td><td align=\"center\" class=\"e3goi\"><div class=\"jjVJ4e\"> <div> <div class=\"lIMUZd\"><div><table class=\"RntSmf\"><tr><td><a href=\"/url?q=https://www.manutd.com/en/players-and-staff/detail/cristiano-ronaldo&amp;sa=U&amp;ved=2ahUKEwjQyvTj3OGEAxWC1zgGHawOCl0QqoUBegQIDxAB&amp;usg=AOvVaw1jO0gwcRWcU-K-iVducIuZ\"><div class=\"kCmkOe\"><img alt=\"\" class=\"DS1iW\" src=\"https://encrypted-tbn0.gstatic.com/images?q=tbn:ANd9GcRTITa6Hes_rOOVhhWdw-_SSoZ7uzgknZwv7TRS_EDUWIGGe8M9xZCiA2IckPc&amp;s\"/></div></a></td></tr><tr><td><a href=\"/url?q=https://www.manutd.com/en/players-and-staff/detail/cristiano-ronaldo&amp;sa=U&amp;ved=2ahUKEwjQyvTj3OGEAxWC1zgGHawOCl0Qr4kDegQIDxAC&amp;usg=AOvVaw0vcZG07ZHmw5ZV2EQJ_WeU\"><div class=\"AlD19d\"> <span class=\"qXLe6d x3G5ab\"> <span class=\"fYyStc\">Cristiano Ronaldo | Man Utd...</span> </span> <span class=\"qXLe6d F9iS2e\"> <span class=\"fYyStc\">www.manutd.com</span> </span> </div></a></td></tr></table></div></div> </div> </div></td><td align=\"center\" class=\"e3goi\"><div class=\"jjVJ4e\"> <div> <div class=\"lIMUZd\"><div><table class=\"RntSmf\"><tr><td><a href=\"/url?q=https://en.wikipedia.org/wiki/Cristiano_Ronaldo&amp;sa=U&amp;ved=2ahUKEwjQyvTj3OGEAxWC1zgGHawOCl0QqoUBegQIDhAB&amp;usg=AOvVaw2dJ7zSrhsGghzkASWvJqmv\"><div class=\"kCmkOe\"><img alt=\"\" class=\"DS1iW\" src=\"https://encrypted-tbn0.gstatic.com/images?q=tbn:ANd9GcQ5URKdwfNliR070hoRzh-7zhYmIS4sw_lGiCdQ6Ph54ofUb4-Mif1ifRVCFQ&amp;s\"/></div></a></td></tr><tr><td><a href=\"/url?q=https://en.wikipedia.org/wiki/Cristiano_Ronaldo&amp;sa=U&amp;ved=2ahUKEwjQyvTj3OGEAxWC1zgGHawOCl0Qr4kDegQIDhAC&amp;usg=AOvVaw01DN21c1lYslF0FfoXrTZ0\"><div class=\"AlD19d\"> <span class=\"qXLe6d x3G5ab\"> <span class=\"fYyStc\">Cristiano Ronaldo -...</span> </span> <span class=\"qXLe6d F9iS2e\"> <span class=\"fYyStc\">en.wikipedia.org</span> </span> </div></a></td></tr></table></div></div> </div> </div></td><td align=\"center\" class=\"e3goi\"><div class=\"jjVJ4e\"> <div> <div class=\"lIMUZd\"><div><table class=\"RntSmf\"><tr><td><a href=\"/url?q=https://www.realmadrid.com/en-US/the-club/history/football-legends/cristiano-ronaldo-dos-santos-aveiro&amp;sa=U&amp;ved=2ahUKEwjQyvTj3OGEAxWC1zgGHawOCl0QqoUBegQICxAB&amp;usg=AOvVaw3DfH_KvWL9647Y6emGJZA5\"><div class=\"kCmkOe\"><img alt=\"\" class=\"DS1iW\" src=\"https://encrypted-tbn0.gstatic.com/images?q=tbn:ANd9GcRjXu-Opp_OgOLdXmA0zaWRjcCYbM5xzsb3fR-MB2Qd5Sya3PTE_Ivdki6ABQ&amp;s\"/></div></a></td></tr><tr><td><a href=\"/url?q=https://www.realmadrid.com/en-US/the-club/history/football-legends/cristiano-ronaldo-dos-santos-aveiro&amp;sa=U&amp;ved=2ahUKEwjQyvTj3OGEAxWC1zgGHawOCl0Qr4kDegQICxAC&amp;usg=AOvVaw1L_RMRaLNjlJZLopjGo05J\"><div class=\"AlD19d\"> <span class=\"qXLe6d x3G5ab\"> <span class=\"fYyStc\">Cristiano Ronaldo |...</span> </span> <span class=\"qXLe6d F9iS2e\"> <span class=\"fYyStc\">www.realmadrid.com</span> </span> </div></a></td></tr></table></div></div> </div> </div></td></tr><tr><td align=\"center\" class=\"e3goi\"><div class=\"jjVJ4e\"> <div> <div class=\"lIMUZd\"><div><table class=\"RntSmf\"><tr><td><a href=\"/url?q=https://www.cristianoronaldo.com/&amp;sa=U&amp;ved=2ahUKEwjQyvTj3OGEAxWC1zgGHawOCl0QqoUBegQICRAB&amp;usg=AOvVaw1n9MvRWLlAc4gsCNX3wVht\"><div class=\"kCmkOe\"><img alt=\"\" class=\"DS1iW\" src=\"https://encrypted-tbn0.gstatic.com/images?q=tbn:ANd9GcSBDSpYsMJN9I1moaolxYiIkqQ0x_MnRip6UgN4MXk0H98Vto3aFQjGxVDUtQ&amp;s\"/></div></a></td></tr><tr><td><a href=\"/url?q=https://www.cristianoronaldo.com/&amp;sa=U&amp;ved=2ahUKEwjQyvTj3OGEAxWC1zgGHawOCl0Qr4kDegQICRAC&amp;usg=AOvVaw0ISv2QJpFOFxbOnVQ0Gbty\"><div class=\"AlD19d\"> <span class=\"qXLe6d x3G5ab\"> <span class=\"fYyStc\">Cristiano Ronaldo |...</span> </span> <span class=\"qXLe6d F9iS2e\"> <span class=\"fYyStc\">www.cristianoronaldo.com</span> </span> </div></a></td></tr></table></div></div> </div> </div></td><td align=\"center\" class=\"e3goi\"><div class=\"jjVJ4e\"> <div> <div class=\"lIMUZd\"><div><table class=\"RntSmf\"><tr><td><a href=\"/url?q=https://www.transfermarkt.com/cristiano-ronaldo/profil/spieler/8198&amp;sa=U&amp;ved=2ahUKEwjQyvTj3OGEAxWC1zgGHawOCl0QqoUBegQIDBAB&amp;usg=AOvVaw0bsZwTyCaQ0nKv1cd3nAGZ\"><div class=\"kCmkOe\"><img alt=\"\" class=\"DS1iW\" src=\"https://encrypted-tbn0.gstatic.com/images?q=tbn:ANd9GcRpONs8AKjQnv3ZNY83wRh05fp8LSNCXQ2gPEc93sdOFcnLhDyVDNjlDHL5QC8&amp;s\"/></div></a></td></tr><tr><td><a href=\"/url?q=https://www.transfermarkt.com/cristiano-ronaldo/profil/spieler/8198&amp;sa=U&amp;ved=2ahUKEwjQyvTj3OGEAxWC1zgGHawOCl0Qr4kDegQIDBAC&amp;usg=AOvVaw2heOU6F1XA_ZGZyu2Lm7K8\"><div class=\"AlD19d\"> <span class=\"qXLe6d x3G5ab\"> <span class=\"fYyStc\">Cristiano Ronaldo - Player...</span> </span> <span class=\"qXLe6d F9iS2e\"> <span class=\"fYyStc\">www.transfermarkt.com</span> </span> </div></a></td></tr></table></div></div> </div> </div></td><td align=\"center\" class=\"e3goi\"><div class=\"jjVJ4e\"> <div> <div class=\"lIMUZd\"><div><table class=\"RntSmf\"><tr><td><a href=\"/url?q=https://www.instagram.com/cristiano/&amp;sa=U&amp;ved=2ahUKEwjQyvTj3OGEAxWC1zgGHawOCl0QqoUBegQIChAB&amp;usg=AOvVaw0sut8sqvmAozLCInrRbrnF\"><div class=\"kCmkOe\"><img alt=\"\" class=\"DS1iW\" src=\"https://encrypted-tbn0.gstatic.com/images?q=tbn:ANd9GcRax8SPJfVvyRDmz6M9OaWyg-QCDOYulRRdeMqO88WQwZVlZe7pS5wkEmZ2Vg&amp;s\"/></div></a></td></tr><tr><td><a href=\"/url?q=https://www.instagram.com/cristiano/&amp;sa=U&amp;ved=2ahUKEwjQyvTj3OGEAxWC1zgGHawOCl0Qr4kDegQIChAC&amp;usg=AOvVaw0ey6Lziub8U4Zrta0c4hpQ\"><div class=\"AlD19d\"> <span class=\"qXLe6d x3G5ab\"> <span class=\"fYyStc\">Cristiano Ronaldo...</span> </span> <span class=\"qXLe6d F9iS2e\"> <span class=\"fYyStc\">www.instagram.com</span> </span> </div></a></td></tr></table></div></div> </div> </div></td><td align=\"center\" class=\"e3goi\"><div class=\"jjVJ4e\"> <div> <div class=\"lIMUZd\"><div><table class=\"RntSmf\"><tr><td><a href=\"/url?q=https://www.transfermarkt.com/cristiano-ronaldo/profil/spieler/8198&amp;sa=U&amp;ved=2ahUKEwjQyvTj3OGEAxWC1zgGHawOCl0QqoUBegQIDRAB&amp;usg=AOvVaw2iKhzhJUo8Wd3wY4gxkXlf\"><div class=\"kCmkOe\"><img alt=\"\" class=\"DS1iW\" src=\"https://encrypted-tbn0.gstatic.com/images?q=tbn:ANd9GcTr2FuTaj68Vxkp6HIUR9eOftKKfxYh1qhaPuyPsqwlr2ndNLqdbZzSCDBdBA&amp;s\"/></div></a></td></tr><tr><td><a href=\"/url?q=https://www.transfermarkt.com/cristiano-ronaldo/profil/spieler/8198&amp;sa=U&amp;ved=2ahUKEwjQyvTj3OGEAxWC1zgGHawOCl0Qr4kDegQIDRAC&amp;usg=AOvVaw1_WOrdMue-7GaZlsV0kQTx\"><div class=\"AlD19d\"> <span class=\"qXLe6d x3G5ab\"> <span class=\"fYyStc\">Cristiano Ronaldo - Player...</span> </span> <span class=\"qXLe6d F9iS2e\"> <span class=\"fYyStc\">www.transfermarkt.com</span> </span> </div></a></td></tr></table></div></div> </div> </div></td></tr><tr><td align=\"center\" class=\"e3goi\"><div class=\"jjVJ4e\"> <div> <div class=\"lIMUZd\"><div><table class=\"RntSmf\"><tr><td><a href=\"/url?q=https://www.goal.com/en-in/lists/cristiano-ronaldo-statement-portugal-historic-euro-2024-qualifying/blt06b8eeb56a88de85&amp;sa=U&amp;ved=2ahUKEwjQyvTj3OGEAxWC1zgGHawOCl0QqoUBegQIABAB&amp;usg=AOvVaw1cKEFx7gcGpOd6hoNHyNvQ\"><div class=\"kCmkOe\"><img alt=\"\" class=\"DS1iW\" src=\"https://encrypted-tbn0.gstatic.com/images?q=tbn:ANd9GcTlryMNFHPoFcSSstvDi5DdDwiiUIfKgNfnnV6lDAusw1NVwcew2EAWJaUy0w&amp;s\"/></div></a></td></tr><tr><td><a href=\"/url?q=https://www.goal.com/en-in/lists/cristiano-ronaldo-statement-portugal-historic-euro-2024-qualifying/blt06b8eeb56a88de85&amp;sa=U&amp;ved=2ahUKEwjQyvTj3OGEAxWC1zgGHawOCl0Qr4kDegQIABAC&amp;usg=AOvVaw2e_Nhu09XPVlzEcOU95d1N\"><div class=\"AlD19d\"> <span class=\"qXLe6d x3G5ab\"> <span class=\"fYyStc\">100% victorious!' -...</span> </span> <span class=\"qXLe6d F9iS2e\"> <span class=\"fYyStc\">www.goal.com</span> </span> </div></a></td></tr></table></div></div> </div> </div></td><td align=\"center\" class=\"e3goi\"><div class=\"jjVJ4e\"> <div> <div class=\"lIMUZd\"><div><table class=\"RntSmf\"><tr><td><a href=\"/url?q=https://www.facebook.com/Cristiano/&amp;sa=U&amp;ved=2ahUKEwjQyvTj3OGEAxWC1zgGHawOCl0QqoUBegQIBRAB&amp;usg=AOvVaw3VFBlhPmXymWKSWIj9N-hr\"><div class=\"kCmkOe\"><img alt=\"\" class=\"DS1iW\" src=\"https://encrypted-tbn0.gstatic.com/images?q=tbn:ANd9GcRirDOIaLBYfEj59l0jkiP9XDwtMNpurZsadsp1ZKsxamTGa1-HLVC3LVtArA&amp;s\"/></div></a></td></tr><tr><td><a href=\"/url?q=https://www.facebook.com/Cristiano/&amp;sa=U&amp;ved=2ahUKEwjQyvTj3OGEAxWC1zgGHawOCl0Qr4kDegQIBRAC&amp;usg=AOvVaw0jCTynp5ax2gGdgyx5vGl6\"><div class=\"AlD19d\"> <span class=\"qXLe6d x3G5ab\"> <span class=\"fYyStc\">Cristiano Ronaldo</span> </span> <span class=\"qXLe6d F9iS2e\"> <span class=\"fYyStc\">www.facebook.com</span> </span> </div></a></td></tr></table></div></div> </div> </div></td><td align=\"center\" class=\"e3goi\"><div class=\"jjVJ4e\"> <div> <div class=\"lIMUZd\"><div><table class=\"RntSmf\"><tr><td><a href=\"/url?q=https://m.economictimes.com/news/new-updates/cristiano-ronaldos-luxury-treatment-in-saudi-arabia-draws-criticism-read-here/articleshow/97089684.cms&amp;sa=U&amp;ved=2ahUKEwjQyvTj3OGEAxWC1zgGHawOCl0QqoUBegQIBhAB&amp;usg=AOvVaw2W-8CIUvyYzesvM9KrWhq2\"><div class=\"kCmkOe\"><img alt=\"\" class=\"DS1iW\" src=\"https://encrypted-tbn0.gstatic.com/images?q=tbn:ANd9GcS3wQ6FwESL19PSKD7WjJcU7kgIXXVIBj-SPPD09KhYnSrMfF5qJz-crgD8Sg&amp;s\"/></div></a></td></tr><tr><td><a href=\"/url?q=https://m.economictimes.com/news/new-updates/cristiano-ronaldos-luxury-treatment-in-saudi-arabia-draws-criticism-read-here/articleshow/97089684.cms&amp;sa=U&amp;ved=2ahUKEwjQyvTj3OGEAxWC1zgGHawOCl0Qr4kDegQIBhAC&amp;usg=AOvVaw0jS-pq35nolg8mx6PdO74g\"><div class=\"AlD19d\"> <span class=\"qXLe6d x3G5ab\"> <span class=\"fYyStc\">Cristiano Ronaldo News:...</span> </span> <span class=\"qXLe6d F9iS2e\"> <span class=\"fYyStc\">m.economictimes.com</span> </span> </div></a></td></tr></table></div></div> </div> </div></td><td align=\"center\" class=\"e3goi\"><div class=\"jjVJ4e\"> <div> <div class=\"lIMUZd\"><div><table class=\"RntSmf\"><tr><td><a href=\"/url?q=https://www.timesnownews.com/web-stories/sports/5-languages-spoken-by-cristiano-ronaldo/photostory/108233322.cms&amp;sa=U&amp;ved=2ahUKEwjQyvTj3OGEAxWC1zgGHawOCl0QqoUBegQIBxAB&amp;usg=AOvVaw0woiwB78RNGpvgI42mfcqQ\"><div class=\"kCmkOe\"><img alt=\"\" class=\"DS1iW\" src=\"https://encrypted-tbn0.gstatic.com/images?q=tbn:ANd9GcRlQXL5ixfgLzVSpBUW3kFoNx-OgHMuGfisEecurtT4xeg6Ae0IrpO-qgVF4BI&amp;s\"/></div></a></td></tr><tr><td><a href=\"/url?q=https://www.timesnownews.com/web-stories/sports/5-languages-spoken-by-cristiano-ronaldo/photostory/108233322.cms&amp;sa=U&amp;ved=2ahUKEwjQyvTj3OGEAxWC1zgGHawOCl0Qr4kDegQIBxAC&amp;usg=AOvVaw34wsQEyuVwgVRmJvxM5WTC\"><div class=\"AlD19d\"> <span class=\"qXLe6d x3G5ab\"> <span class=\"fYyStc\">5 Languages Spoken By...</span> </span> <span class=\"qXLe6d F9iS2e\"> <span class=\"fYyStc\">www.timesnownews.com</span> </span> </div></a></td></tr></table></div></div> </div> </div></td></tr><tr><td align=\"center\" class=\"e3goi\"><div class=\"jjVJ4e\"> <div> <div class=\"lIMUZd\"><div><table class=\"RntSmf\"><tr><td><a href=\"/url?q=https://www.britannica.com/biography/Cristiano-Ronaldo&amp;sa=U&amp;ved=2ahUKEwjQyvTj3OGEAxWC1zgGHawOCl0QqoUBegQICBAB&amp;usg=AOvVaw1F1XN2_Vr06J8vJ00L8YhT\"><div class=\"kCmkOe\"><img alt=\"\" class=\"DS1iW\" src=\"https://encrypted-tbn0.gstatic.com/images?q=tbn:ANd9GcQVJnaI7zxsrHgsvNfJSvNd1RC9Xjax_k8beaFcopcj9QduwJLGt5fodqlA7s0&amp;s\"/></div></a></td></tr><tr><td><a href=\"/url?q=https://www.britannica.com/biography/Cristiano-Ronaldo&amp;sa=U&amp;ved=2ahUKEwjQyvTj3OGEAxWC1zgGHawOCl0Qr4kDegQICBAC&amp;usg=AOvVaw10b_ImEvhmlE3fr4MRoT2X\"><div class=\"AlD19d\"> <span class=\"qXLe6d x3G5ab\"> <span class=\"fYyStc\">Cristiano Ronaldo |...</span> </span> <span class=\"qXLe6d F9iS2e\"> <span class=\"fYyStc\">www.britannica.com</span> </span> </div></a></td></tr></table></div></div> </div> </div></td><td align=\"center\" class=\"e3goi\"><div class=\"jjVJ4e\"> <div> <div class=\"lIMUZd\"><div><table class=\"RntSmf\"><tr><td><a href=\"/url?q=https://www.npr.org/2022/12/30/1146404549/ronaldo-signs-saudi-arabia-soccer-deal&amp;sa=U&amp;ved=2ahUKEwjQyvTj3OGEAxWC1zgGHawOCl0QqoUBegQIAhAB&amp;usg=AOvVaw29HtOhmaROnjfllqZhfsqj\"><div class=\"kCmkOe\"><img alt=\"\" class=\"DS1iW\" src=\"https://encrypted-tbn0.gstatic.com/images?q=tbn:ANd9GcRgwxkZXLHA1aegneqBpsMoKWyzXg3xc7dEN7d49Kk5576_UDvGYE1ORQ4JKA&amp;s\"/></div></a></td></tr><tr><td><a href=\"/url?q=https://www.npr.org/2022/12/30/1146404549/ronaldo-signs-saudi-arabia-soccer-deal&amp;sa=U&amp;ved=2ahUKEwjQyvTj3OGEAxWC1zgGHawOCl0Qr4kDegQIAhAC&amp;usg=AOvVaw0rqd4VbUT5byd5BysFMbe2\"><div class=\"AlD19d\"> <span class=\"qXLe6d x3G5ab\"> <span class=\"fYyStc\">Cristiano Ronaldo signs...</span> </span> <span class=\"qXLe6d F9iS2e\"> <span class=\"fYyStc\">www.npr.org</span> </span> </div></a></td></tr></table></div></div> </div> </div></td><td align=\"center\" class=\"e3goi\"><div class=\"jjVJ4e\"> <div> <div class=\"lIMUZd\"><div><table class=\"RntSmf\"><tr><td><a href=\"/url?q=https://www.marca.com/en/world-cup/2022/12/05/638ddff822601dd0348b45a5.html&amp;sa=U&amp;ved=2ahUKEwjQyvTj3OGEAxWC1zgGHawOCl0QqoUBegQIARAB&amp;usg=AOvVaw2nlFrCE5q2SvxjF1weQr0S\"><div class=\"kCmkOe\"><img alt=\"\" class=\"DS1iW\" src=\"https://encrypted-tbn0.gstatic.com/images?q=tbn:ANd9GcQj0BEKszJ5-jgyjwwgQmSQNxvIVnlGXcKp_TBqTG88TUXz6saGmlDUIoZ0Vg&amp;s\"/></div></a></td></tr><tr><td><a href=\"/url?q=https://www.marca.com/en/world-cup/2022/12/05/638ddff822601dd0348b45a5.html&amp;sa=U&amp;ved=2ahUKEwjQyvTj3OGEAxWC1zgGHawOCl0Qr4kDegQIARAC&amp;usg=AOvVaw207JkE-S5crI22gfs0kr0K\"><div class=\"AlD19d\"> <span class=\"qXLe6d x3G5ab\"> <span class=\"fYyStc\">World Cup 2022: Cristiano...</span> </span> <span class=\"qXLe6d F9iS2e\"> <span class=\"fYyStc\">www.marca.com</span> </span> </div></a></td></tr></table></div></div> </div> </div></td><td align=\"center\" class=\"e3goi\"><div class=\"jjVJ4e\"> <div> <div class=\"lIMUZd\"><div><table class=\"RntSmf\"><tr><td><a href=\"/url?q=https://www.thenationalnews.com/sport/football/2024/02/29/cristiano-ronaldo-fined-and-suspended-for-one-match-by-saff/&amp;sa=U&amp;ved=2ahUKEwjQyvTj3OGEAxWC1zgGHawOCl0QqoUBegQIBBAB&amp;usg=AOvVaw2XoI7jOdX3HMnuajs71Bkk\"><div class=\"kCmkOe\"><img alt=\"\" class=\"DS1iW\" src=\"https://encrypted-tbn0.gstatic.com/images?q=tbn:ANd9GcTtRBRlUtQ6jPcXjkvc2WTUQ6vP-8stRL3drGIJ6cDaHHzbMW_t4GU993VA8EE&amp;s\"/></div></a></td></tr><tr><td><a href=\"/url?q=https://www.thenationalnews.com/sport/football/2024/02/29/cristiano-ronaldo-fined-and-suspended-for-one-match-by-saff/&amp;sa=U&amp;ved=2ahUKEwjQyvTj3OGEAxWC1zgGHawOCl0Qr4kDegQIBBAC&amp;usg=AOvVaw1M2NMnrJY1VaNBeZ5w4_aT\"><div class=\"AlD19d\"> <span class=\"qXLe6d x3G5ab\"> <span class=\"fYyStc\">Cristiano Ronaldo fined and...</span> </span> <span class=\"qXLe6d F9iS2e\"> <span class=\"fYyStc\">www.thenationalnews.com</span> </span> </div></a></td></tr></table></div></div> </div> </div></td></tr></table></div><table class=\"uZgmoc\"><tbody><td><a class=\"frGj1b\" href=\"/search?q=cristiano+ronaldo&amp;sca_esv=8cd23cecb428a702&amp;bih=694&amp;biw=767&amp;rlz=1C1UEAD_enIN1077IN1077&amp;ie=UTF-8&amp;tbm=isch&amp;ei=pnnpZdDfH4Kv4-EPrJ2o6AU&amp;start=20&amp;sa=N\">Next &gt;</a></td></tbody></table><br/><div class=\"TuS8Ad\" data-ved=\"0ahUKEwjQyvTj3OGEAxWC1zgGHawOCl0QpyoIUg\"><style>.VYM29{font-weight:bold}</style><div align=\"center\" class=\"HddGcc\"><span class=\"VYM29\">Karanje Turf Satara, Satara, Maharashtra</span><span> - </span><span>From your IP address</span><span> - </span><a href=\"/url?q=https://support.google.com/websearch%3Fp%3Dws_settings_location%26hl%3Den-IN&amp;opi=89978449&amp;sa=U&amp;ved=0ahUKEwjQyvTj3OGEAxWC1zgGHawOCl0Qty4IUw&amp;usg=AOvVaw1PaIMeU_g_58078nMcWAQ-\">Learn more</a></div><div align=\"center\"><a class=\"rEM8G\" href=\"/url?q=https://accounts.google.com/ServiceLogin%3Fcontinue%3Dhttps://www.google.com/search%253Fq%253Dcristiano%252Bronaldo%2526tbm%253Disch%2526ved%253D2ahUKEwij2u7PyeGEAxWQmWMGHZkSAhQQ2-cCegQIABAA%2526oq%253Dvirat%252Bkohli%2526gs_lp%253DEgNpbWciC3ZpcmF0IGtvaGxpMgQQIxgnMhAQABiABBiKBRhDGLEDGIMBMggQABiABBixAzINEAAYgAQYigUYQxixAzIFEAAYgAQyBRAAGIAEMggQABiABBixAzIFEAAYgAQyBRAAGIAEMhAQABiABBiKBRhDGLEDGIMBSPQ2UJsLWOA0cAJ4AJABAJgBsASgAdYTqgEJMC45LjIuNS0xuAEDyAEA-AEBigILZ3dzLXdpei1pbWeoAgrCAgcQIxjqAhgnwgIKEAAYgAQYigUYQ4gGAQ%2526sclient%253Dimg%2526ei%253DkGXpZaPSDJCzjuMPmaWIoAE%2526bih%253D694%2526biw%253D767%2526rlz%253D1C1UEAD_enIN1077IN1077%26hl%3Den&amp;opi=89978449&amp;sa=U&amp;ved=0ahUKEwjQyvTj3OGEAxWC1zgGHawOCl0Qxs8CCFQ&amp;usg=AOvVaw0pnqf4lH0ap96ViRm4gCId\">Sign in</a></div><div><table class=\"bookcf\"><tbody class=\"InWNIe\"><tr><td><a class=\"rEM8G\" href=\"https://www.google.com/preferences?hl=en&amp;sa=X&amp;ved=0ahUKEwjQyvTj3OGEAxWC1zgGHawOCl0Qv5YECFU\">Settings</a></td><td><a class=\"rEM8G\" href=\"https://www.google.com/intl/en_in/policies/privacy/\">Privacy</a></td><td><a class=\"rEM8G\" href=\"https://www.google.com/intl/en_in/policies/terms/\">Terms</a></td></tr></tbody></table></div></div><div> </div></body></html>"
      ]
     },
     "execution_count": 44,
     "metadata": {},
     "output_type": "execute_result"
    }
   ],
   "source": [
    "soup"
   ]
  },
  {
   "cell_type": "code",
   "execution_count": 45,
   "id": "ed4bb795-9abb-48b1-b086-755de05b45cb",
   "metadata": {},
   "outputs": [],
   "source": [
    "image_tags=soup.find_all(\"img\")"
   ]
  },
  {
   "cell_type": "code",
   "execution_count": 46,
   "id": "54759460-2d00-4b23-8423-ebf6195389f8",
   "metadata": {},
   "outputs": [],
   "source": [
    "del image_tags[0]"
   ]
  },
  {
   "cell_type": "code",
   "execution_count": 47,
   "id": "8ab5bf35-17ed-4d29-b713-5c719c65d370",
   "metadata": {},
   "outputs": [
    {
     "data": {
      "text/plain": [
       "[<img alt=\"\" class=\"DS1iW\" src=\"https://encrypted-tbn0.gstatic.com/images?q=tbn:ANd9GcS2-SbpoRNCqCsyIJzxcQRwpRaANXpJv9dMpIi8zHxJEm0HjdeUJM3BlAkbocc&amp;s\"/>,\n",
       " <img alt=\"\" class=\"DS1iW\" src=\"https://encrypted-tbn0.gstatic.com/images?q=tbn:ANd9GcSPGsqvgni8i8sgM6z70Yi1Q7HNDKvt404rUL0dVQKYOT2C6af1rUNWCRfEp3o&amp;s\"/>,\n",
       " <img alt=\"\" class=\"DS1iW\" src=\"https://encrypted-tbn0.gstatic.com/images?q=tbn:ANd9GcRyLHfNlKC5KMgyzGeUJNv9BAOdR-2jJEM_wCvHAaszzRU2ZlFySa47NDbPmt4&amp;s\"/>,\n",
       " <img alt=\"\" class=\"DS1iW\" src=\"https://encrypted-tbn0.gstatic.com/images?q=tbn:ANd9GcSkfYKVZcpwdbKANsKUWnr28O3EZgPNlKS6C1omLpHf4n7Dv-6deHBGTiqDQw&amp;s\"/>,\n",
       " <img alt=\"\" class=\"DS1iW\" src=\"https://encrypted-tbn0.gstatic.com/images?q=tbn:ANd9GcR8ojg_Z9wmXsdhthgyKqBuurgBf5bZ7FIbI3gBU-iNJz66KGegNkYSjY_Bug&amp;s\"/>,\n",
       " <img alt=\"\" class=\"DS1iW\" src=\"https://encrypted-tbn0.gstatic.com/images?q=tbn:ANd9GcRTITa6Hes_rOOVhhWdw-_SSoZ7uzgknZwv7TRS_EDUWIGGe8M9xZCiA2IckPc&amp;s\"/>,\n",
       " <img alt=\"\" class=\"DS1iW\" src=\"https://encrypted-tbn0.gstatic.com/images?q=tbn:ANd9GcQ5URKdwfNliR070hoRzh-7zhYmIS4sw_lGiCdQ6Ph54ofUb4-Mif1ifRVCFQ&amp;s\"/>,\n",
       " <img alt=\"\" class=\"DS1iW\" src=\"https://encrypted-tbn0.gstatic.com/images?q=tbn:ANd9GcRjXu-Opp_OgOLdXmA0zaWRjcCYbM5xzsb3fR-MB2Qd5Sya3PTE_Ivdki6ABQ&amp;s\"/>,\n",
       " <img alt=\"\" class=\"DS1iW\" src=\"https://encrypted-tbn0.gstatic.com/images?q=tbn:ANd9GcSBDSpYsMJN9I1moaolxYiIkqQ0x_MnRip6UgN4MXk0H98Vto3aFQjGxVDUtQ&amp;s\"/>,\n",
       " <img alt=\"\" class=\"DS1iW\" src=\"https://encrypted-tbn0.gstatic.com/images?q=tbn:ANd9GcRpONs8AKjQnv3ZNY83wRh05fp8LSNCXQ2gPEc93sdOFcnLhDyVDNjlDHL5QC8&amp;s\"/>,\n",
       " <img alt=\"\" class=\"DS1iW\" src=\"https://encrypted-tbn0.gstatic.com/images?q=tbn:ANd9GcRax8SPJfVvyRDmz6M9OaWyg-QCDOYulRRdeMqO88WQwZVlZe7pS5wkEmZ2Vg&amp;s\"/>,\n",
       " <img alt=\"\" class=\"DS1iW\" src=\"https://encrypted-tbn0.gstatic.com/images?q=tbn:ANd9GcTr2FuTaj68Vxkp6HIUR9eOftKKfxYh1qhaPuyPsqwlr2ndNLqdbZzSCDBdBA&amp;s\"/>,\n",
       " <img alt=\"\" class=\"DS1iW\" src=\"https://encrypted-tbn0.gstatic.com/images?q=tbn:ANd9GcTlryMNFHPoFcSSstvDi5DdDwiiUIfKgNfnnV6lDAusw1NVwcew2EAWJaUy0w&amp;s\"/>,\n",
       " <img alt=\"\" class=\"DS1iW\" src=\"https://encrypted-tbn0.gstatic.com/images?q=tbn:ANd9GcRirDOIaLBYfEj59l0jkiP9XDwtMNpurZsadsp1ZKsxamTGa1-HLVC3LVtArA&amp;s\"/>,\n",
       " <img alt=\"\" class=\"DS1iW\" src=\"https://encrypted-tbn0.gstatic.com/images?q=tbn:ANd9GcS3wQ6FwESL19PSKD7WjJcU7kgIXXVIBj-SPPD09KhYnSrMfF5qJz-crgD8Sg&amp;s\"/>,\n",
       " <img alt=\"\" class=\"DS1iW\" src=\"https://encrypted-tbn0.gstatic.com/images?q=tbn:ANd9GcRlQXL5ixfgLzVSpBUW3kFoNx-OgHMuGfisEecurtT4xeg6Ae0IrpO-qgVF4BI&amp;s\"/>,\n",
       " <img alt=\"\" class=\"DS1iW\" src=\"https://encrypted-tbn0.gstatic.com/images?q=tbn:ANd9GcQVJnaI7zxsrHgsvNfJSvNd1RC9Xjax_k8beaFcopcj9QduwJLGt5fodqlA7s0&amp;s\"/>,\n",
       " <img alt=\"\" class=\"DS1iW\" src=\"https://encrypted-tbn0.gstatic.com/images?q=tbn:ANd9GcRgwxkZXLHA1aegneqBpsMoKWyzXg3xc7dEN7d49Kk5576_UDvGYE1ORQ4JKA&amp;s\"/>,\n",
       " <img alt=\"\" class=\"DS1iW\" src=\"https://encrypted-tbn0.gstatic.com/images?q=tbn:ANd9GcQj0BEKszJ5-jgyjwwgQmSQNxvIVnlGXcKp_TBqTG88TUXz6saGmlDUIoZ0Vg&amp;s\"/>,\n",
       " <img alt=\"\" class=\"DS1iW\" src=\"https://encrypted-tbn0.gstatic.com/images?q=tbn:ANd9GcTtRBRlUtQ6jPcXjkvc2WTUQ6vP-8stRL3drGIJ6cDaHHzbMW_t4GU993VA8EE&amp;s\"/>]"
      ]
     },
     "execution_count": 47,
     "metadata": {},
     "output_type": "execute_result"
    }
   ],
   "source": [
    "image_tags"
   ]
  },
  {
   "cell_type": "code",
   "execution_count": 48,
   "id": "35ac6645-d350-49e9-a7d1-0e0969e43888",
   "metadata": {},
   "outputs": [
    {
     "data": {
      "text/plain": [
       "20"
      ]
     },
     "execution_count": 48,
     "metadata": {},
     "output_type": "execute_result"
    }
   ],
   "source": [
    "len(image_tags)"
   ]
  },
  {
   "cell_type": "code",
   "execution_count": 49,
   "id": "56b2f42b-a70f-494c-b565-c401c0884461",
   "metadata": {},
   "outputs": [],
   "source": [
    "for i in image_tags:\n",
    "    image_url=i['src']\n",
    "    image_data=requests.get(image_url).content\n",
    "    with open(os.path.join(save_dir,f\"{query}_{image_tags.index(i)}.jpg\"),\"wb\") as f:\n",
    "        f.write(image_data)"
   ]
  },
  {
   "cell_type": "code",
   "execution_count": null,
   "id": "fea513ef-b93f-442c-b54d-8d8e6a7b1985",
   "metadata": {},
   "outputs": [],
   "source": []
  },
  {
   "cell_type": "code",
   "execution_count": null,
   "id": "b71e6ba3-be8d-4902-916c-d89837cd9587",
   "metadata": {},
   "outputs": [],
   "source": []
  },
  {
   "cell_type": "code",
   "execution_count": null,
   "id": "ede723fe-57db-4bdf-8f92-05849050a645",
   "metadata": {},
   "outputs": [],
   "source": []
  },
  {
   "cell_type": "code",
   "execution_count": null,
   "id": "a3897ad4-ac1a-4dca-b978-aaac60b8e9e5",
   "metadata": {},
   "outputs": [],
   "source": []
  },
  {
   "cell_type": "code",
   "execution_count": null,
   "id": "5ea60acb-bbc6-47dc-bce2-0781fc20d086",
   "metadata": {},
   "outputs": [],
   "source": []
  },
  {
   "cell_type": "code",
   "execution_count": null,
   "id": "4e536008-0993-4552-8955-ccfa08fb32f4",
   "metadata": {},
   "outputs": [],
   "source": []
  },
  {
   "cell_type": "code",
   "execution_count": null,
   "id": "94d3ea04-a963-4e38-9dd8-bf4e509729d3",
   "metadata": {},
   "outputs": [],
   "source": []
  },
  {
   "cell_type": "code",
   "execution_count": null,
   "id": "ea4609ab-8bc0-45f1-abdb-932ed25c9c71",
   "metadata": {},
   "outputs": [],
   "source": []
  },
  {
   "cell_type": "code",
   "execution_count": null,
   "id": "9c305916-833a-4398-a8c0-d13464c6cfda",
   "metadata": {},
   "outputs": [],
   "source": []
  },
  {
   "cell_type": "code",
   "execution_count": null,
   "id": "024890d9-affc-438b-97f1-d133294ff477",
   "metadata": {},
   "outputs": [],
   "source": []
  }
 ],
 "metadata": {
  "kernelspec": {
   "display_name": "Python 3 (ipykernel)",
   "language": "python",
   "name": "python3"
  },
  "language_info": {
   "codemirror_mode": {
    "name": "ipython",
    "version": 3
   },
   "file_extension": ".py",
   "mimetype": "text/x-python",
   "name": "python",
   "nbconvert_exporter": "python",
   "pygments_lexer": "ipython3",
   "version": "3.11.5"
  }
 },
 "nbformat": 4,
 "nbformat_minor": 5
}
